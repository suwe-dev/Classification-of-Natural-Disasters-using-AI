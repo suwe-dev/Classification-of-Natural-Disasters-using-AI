{
 "cells": [
  {
   "cell_type": "code",
   "execution_count": 1,
   "metadata": {},
   "outputs": [],
   "source": [
    "\"\"\"\n",
    "Data Augmentation\n",
    "\"\"\"\n",
    "\n",
    "#Import the ImageDataGenerator library\n",
    "\n",
    "from tensorflow.keras.preprocessing.image import ImageDataGenerator"
   ]
  },
  {
   "cell_type": "code",
   "execution_count": 2,
   "metadata": {},
   "outputs": [],
   "source": [
    "\"\"\"\n",
    "Configure ImageDataGenerator class\n",
    "\"\"\"\n",
    "\n",
    "#Train_set configuration...\n",
    "\n",
    "train_datagen = ImageDataGenerator(rescale=1./255,\n",
    "                                   zoom_range=0.2,\n",
    "                                   horizontal_flip=True)"
   ]
  },
  {
   "cell_type": "code",
   "execution_count": 3,
   "metadata": {},
   "outputs": [],
   "source": [
    "#Test_set configuration...\n",
    "\n",
    "test_datagen = ImageDataGenerator(rescale=1./255)"
   ]
  },
  {
   "cell_type": "code",
   "execution_count": 4,
   "metadata": {},
   "outputs": [
    {
     "name": "stdout",
     "output_type": "stream",
     "text": [
      "Found 826 images belonging to 4 classes.\n"
     ]
    }
   ],
   "source": [
    "\"\"\"\n",
    "Applying ImageDataGenerator functionality\n",
    "\"\"\"\n",
    "\n",
    "#Train_set \n",
    "xtrain = train_datagen.flow_from_directory('../../dataset/train_set',\n",
    "                                        target_size=(64,64),\n",
    "                                        class_mode='categorical',\n",
    "                                        batch_size=100)"
   ]
  },
  {
   "cell_type": "code",
   "execution_count": 5,
   "metadata": {},
   "outputs": [
    {
     "name": "stdout",
     "output_type": "stream",
     "text": [
      "Found 189 images belonging to 4 classes.\n"
     ]
    }
   ],
   "source": [
    "#Test_set\n",
    "\n",
    "xtest = test_datagen.flow_from_directory('../../dataset/test_set',\n",
    "                                        target_size=(64,64),\n",
    "                                        class_mode='categorical',\n",
    "                                        batch_size=100)"
   ]
  },
  {
   "cell_type": "code",
   "execution_count": 6,
   "metadata": {},
   "outputs": [],
   "source": [
    "\"\"\"\n",
    "CNN model\n",
    "\"\"\"\n",
    "\n",
    "#Importing the required library\n",
    "\n",
    "from tensorflow.keras.models import Sequential\n",
    "from tensorflow.keras.layers import Convolution2D,MaxPooling2D,Flatten,Dense"
   ]
  },
  {
   "cell_type": "code",
   "execution_count": 7,
   "metadata": {},
   "outputs": [],
   "source": [
    "#Initializing the model\n",
    "\n",
    "model = Sequential()\n",
    "\n",
    "\"\"\"\n",
    "CNN layers\n",
    "\"\"\"\n",
    "#Convolutional layer\n",
    "model.add(Convolution2D(32,(3,3),activation='relu',input_shape=(64,64,3)))\n",
    "#Pooling layer\n",
    "model.add(MaxPooling2D(pool_size=(2,2)))\n",
    "#Flatten layer\n",
    "model.add(Flatten())\n",
    "#Hidden layers\n",
    "model.add(Dense(300,activation='relu'))\n",
    "model.add(Dense(150,activation='relu'))\n",
    "model.add(Dense(4,activation='softmax'))"
   ]
  },
  {
   "cell_type": "code",
   "execution_count": 8,
   "metadata": {},
   "outputs": [],
   "source": [
    "#Compiling the model\n",
    "\n",
    "model.compile(optimizer='adam',loss='categorical_crossentropy',metrics=['accuracy'])"
   ]
  },
  {
   "cell_type": "code",
   "execution_count": 9,
   "metadata": {},
   "outputs": [
    {
     "name": "stdout",
     "output_type": "stream",
     "text": [
      "Epoch 1/20\n",
      "9/9 [==============================] - 25s 3s/step - loss: 2.2945 - accuracy: 0.3269 - val_loss: 1.2915 - val_accuracy: 0.2540\n",
      "Epoch 2/20\n",
      "9/9 [==============================] - 13s 1s/step - loss: 1.2042 - accuracy: 0.4310 - val_loss: 1.1022 - val_accuracy: 0.6138\n",
      "Epoch 3/20\n",
      "9/9 [==============================] - 13s 1s/step - loss: 1.0292 - accuracy: 0.6053 - val_loss: 0.9682 - val_accuracy: 0.5926\n",
      "Epoch 4/20\n",
      "9/9 [==============================] - 13s 1s/step - loss: 0.9052 - accuracy: 0.6598 - val_loss: 0.9041 - val_accuracy: 0.6455\n",
      "Epoch 5/20\n",
      "9/9 [==============================] - 13s 1s/step - loss: 0.7954 - accuracy: 0.6925 - val_loss: 0.8267 - val_accuracy: 0.7249\n",
      "Epoch 6/20\n",
      "9/9 [==============================] - 14s 1s/step - loss: 0.6898 - accuracy: 0.7458 - val_loss: 0.6747 - val_accuracy: 0.7989\n",
      "Epoch 7/20\n",
      "9/9 [==============================] - 13s 1s/step - loss: 0.6211 - accuracy: 0.7785 - val_loss: 0.6264 - val_accuracy: 0.7884\n",
      "Epoch 8/20\n",
      "9/9 [==============================] - 13s 1s/step - loss: 0.5818 - accuracy: 0.7797 - val_loss: 0.6761 - val_accuracy: 0.7725\n",
      "Epoch 9/20\n",
      "9/9 [==============================] - 13s 2s/step - loss: 0.5701 - accuracy: 0.7797 - val_loss: 0.6038 - val_accuracy: 0.8307\n",
      "Epoch 10/20\n",
      "9/9 [==============================] - 12s 1s/step - loss: 0.5434 - accuracy: 0.8087 - val_loss: 0.5917 - val_accuracy: 0.8042\n",
      "Epoch 11/20\n",
      "9/9 [==============================] - 12s 1s/step - loss: 0.5378 - accuracy: 0.8111 - val_loss: 0.5109 - val_accuracy: 0.8360\n",
      "Epoch 12/20\n",
      "9/9 [==============================] - 12s 2s/step - loss: 0.4539 - accuracy: 0.8341 - val_loss: 0.5349 - val_accuracy: 0.8042\n",
      "Epoch 13/20\n",
      "9/9 [==============================] - 12s 1s/step - loss: 0.5205 - accuracy: 0.8027 - val_loss: 0.4820 - val_accuracy: 0.8201\n",
      "Epoch 14/20\n",
      "9/9 [==============================] - 13s 1s/step - loss: 0.5042 - accuracy: 0.8220 - val_loss: 0.4455 - val_accuracy: 0.8413\n",
      "Epoch 15/20\n",
      "9/9 [==============================] - 13s 1s/step - loss: 0.4115 - accuracy: 0.8535 - val_loss: 0.5381 - val_accuracy: 0.8148\n",
      "Epoch 16/20\n",
      "9/9 [==============================] - 13s 1s/step - loss: 0.4132 - accuracy: 0.8571 - val_loss: 0.4793 - val_accuracy: 0.8254\n",
      "Epoch 17/20\n",
      "9/9 [==============================] - 12s 1s/step - loss: 0.3805 - accuracy: 0.8632 - val_loss: 0.4217 - val_accuracy: 0.8624\n",
      "Epoch 18/20\n",
      "9/9 [==============================] - 13s 1s/step - loss: 0.3951 - accuracy: 0.8632 - val_loss: 0.3878 - val_accuracy: 0.8783\n",
      "Epoch 19/20\n",
      "9/9 [==============================] - 13s 1s/step - loss: 0.3924 - accuracy: 0.8620 - val_loss: 0.3921 - val_accuracy: 0.8624\n",
      "Epoch 20/20\n",
      "9/9 [==============================] - 14s 2s/step - loss: 0.3488 - accuracy: 0.8692 - val_loss: 0.3873 - val_accuracy: 0.8836\n"
     ]
    },
    {
     "data": {
      "text/plain": [
       "<keras.callbacks.History at 0x1e9b182b610>"
      ]
     },
     "execution_count": 9,
     "metadata": {},
     "output_type": "execute_result"
    }
   ],
   "source": [
    "#Training the model\n",
    "\n",
    "model.fit(xtrain,\n",
    "        steps_per_epoch=len(xtrain),\n",
    "        epochs=20,\n",
    "        validation_data=xtest,\n",
    "        validation_steps=len(xtest))"
   ]
  },
  {
   "cell_type": "code",
   "execution_count": 10,
   "metadata": {},
   "outputs": [],
   "source": [
    "#Saving the model in Hierarchical Data Format\n",
    "\n",
    "model.save('disaster.h5')"
   ]
  },
  {
   "cell_type": "code",
   "execution_count": 11,
   "metadata": {},
   "outputs": [
    {
     "name": "stdout",
     "output_type": "stream",
     "text": [
      "1/1 [==============================] - 0s 111ms/step\n",
      "1/1 [==============================] - 0s 36ms/step\n",
      "0\n",
      "Cyclone\n"
     ]
    }
   ],
   "source": [
    "#Testing the model\n",
    "\n",
    "#Importing required libraries\n",
    "from tensorflow.keras.preprocessing import image\n",
    "import numpy as np\n",
    "\n",
    "img = image.load_img(\"../../dataset/test_set/Cyclone/927.jpg\", target_size=(64,64))\n",
    "x = image.img_to_array(img)\n",
    "x = np.expand_dims(x,axis=0)\n",
    "model.predict(x)\n",
    "pred = np.argmax(model.predict(x))\n",
    "op = ['Cyclone', 'Earthquake', 'Flood', 'Wildfire']\n",
    "\n",
    "print(pred)\n",
    "print(op[pred])"
   ]
  },
  {
   "cell_type": "code",
   "execution_count": null,
   "metadata": {},
   "outputs": [],
   "source": []
  }
 ],
 "metadata": {
  "kernelspec": {
   "display_name": "Python 3.10.2 64-bit",
   "language": "python",
   "name": "python3"
  },
  "language_info": {
   "codemirror_mode": {
    "name": "ipython",
    "version": 3
   },
   "file_extension": ".py",
   "mimetype": "text/x-python",
   "name": "python",
   "nbconvert_exporter": "python",
   "pygments_lexer": "ipython3",
   "version": "3.11.3"
  },
  "orig_nbformat": 4,
  "vscode": {
   "interpreter": {
    "hash": "a0329d1e859fdaae7091121e22fb799195311d986a530316c2954a05cd641814"
   }
  }
 },
 "nbformat": 4,
 "nbformat_minor": 2
}
